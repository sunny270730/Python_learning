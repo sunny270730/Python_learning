{
 "cells": [
  {
   "cell_type": "code",
   "execution_count": 5,
   "id": "ce07f479-cc1c-4c3a-866f-f5ce639ce972",
   "metadata": {},
   "outputs": [
    {
     "name": "stdout",
     "output_type": "stream",
     "text": [
      "https://rasatest.free.beeceptor.com/ https://rasatest.free.beeceptor.com/ https://rasatest.free.beeceptor.com/\n",
      "{'intent': 'ask_price', 'entities': [{'entity': 'order_id', 'prompt': 'Please enter your order id ?'}, {'entity': 'price_range', 'prompt': 'Please enter your desired price range ?'}], 'api_data': {'url': 'https://rasatest.free.beeceptor.com/'}}\n",
      "https://newurl.com/ https://newurl.com/ https://newurl.com/\n",
      "{'intent': 'product_info', 'entities': [{'entity': 'location', 'prompt': 'Please enter your location ?'}], 'api_data': {'url': 'https://newurl.com/'}}\n"
     ]
    }
   ],
   "source": [
    "###### assignment 2 #########\n",
    "\n",
    "# 1) Fetch all Urls from the dict\n",
    "# 2) Add new entity in flow_3\n",
    "# 3) Update url in all flow\n",
    "# 4) Delete the entity in flow_1   \n",
    "\n",
    "\n",
    "flow_1 = {\n",
    "    \"intent\": \"product_info\",\n",
    "    \"entities\": [\n",
    "        {\"entity\": \"product\", \"prompt\": \"can you please enter what are you searching ?\"},\n",
    "        {\"entity\": \"location\", \"prompt\": \"Please enter your location ?\"}\n",
    "    ],\n",
    "    \"api_data\": {\n",
    "        \"url\": \"https://rasatest.free.beeceptor.com/\"\n",
    "    }\n",
    "}\n",
    "flow_2 = {\n",
    "    \"intent\": \"ask_price\",\n",
    "    \"entities\": [\n",
    "        {\"entity\": \"product\", \"prompt\": \"can you please enter what are you searching ?\"},\n",
    "        {\"entity\": \"location\", \"prompt\": \"Please enter your location ?\"}\n",
    "    ],\n",
    "    \"api_data\": {\n",
    "        \"url\": \"https://rasatest.free.beeceptor.com/\"\n",
    "    }\n",
    "}\n",
    "\n",
    "flow_3 = {\n",
    "    \"intent\": \"ask_price\",\n",
    "    \"entities\": [\n",
    "        {\"entity\": \"order_id\", \"prompt\": \"Please enter your order id ?\"}\n",
    "    ],\n",
    "    \"api_data\": {\n",
    "        \"url\": \"https://rasatest.free.beeceptor.com/\"\n",
    "    }\n",
    "}\n",
    "\n",
    "####   Fetch all Urls from the dict    ######\n",
    "\n",
    "print(flow_1[\"api_data\"][\"url\"], flow_2[\"api_data\"][\"url\"],flow_3[\"api_data\"][\"url\"]) \n",
    "\n",
    "##########   Add new entity in flow_3  ###########\n",
    "\n",
    "\n",
    "flow_3[\"entities\"].append({\"entity\": \"price_range\", \"prompt\": \"Please enter your desired price range ?\"}) \n",
    "print(flow_3)\n",
    "#########    Update url in all flow    ##########\n",
    "\n",
    "flow_1[\"api_data\"][\"url\"] = \"https://newurl.com/\"     \n",
    "flow_2[\"api_data\"][\"url\"] = \"https://newurl.com/\"\n",
    "flow_3[\"api_data\"][\"url\"] = \"https://newurl.com/\"\n",
    "print(flow_1[\"api_data\"][\"url\"], flow_2[\"api_data\"][\"url\"],flow_3[\"api_data\"][\"url\"])\n",
    "\n",
    "#########     Delete the entity in flow_1  ############\n",
    "\n",
    "flow_1[\"entities\"].remove({\"entity\": \"product\", \"prompt\": \"can you please enter what are you searching ?\"}) ###### delete entity###\n",
    "print(flow_1)\n",
    "\n",
    "      \n",
    "      \n",
    "      \n",
    "      \n",
    "      "
   ]
  },
  {
   "cell_type": "code",
   "execution_count": null,
   "id": "5d77730c-fc0e-4b0f-882b-c1fa750bcd27",
   "metadata": {},
   "outputs": [],
   "source": []
  }
 ],
 "metadata": {
  "kernelspec": {
   "display_name": "Python 3 (ipykernel)",
   "language": "python",
   "name": "python3"
  },
  "language_info": {
   "codemirror_mode": {
    "name": "ipython",
    "version": 3
   },
   "file_extension": ".py",
   "mimetype": "text/x-python",
   "name": "python",
   "nbconvert_exporter": "python",
   "pygments_lexer": "ipython3",
   "version": "3.9.13"
  }
 },
 "nbformat": 4,
 "nbformat_minor": 5
}
